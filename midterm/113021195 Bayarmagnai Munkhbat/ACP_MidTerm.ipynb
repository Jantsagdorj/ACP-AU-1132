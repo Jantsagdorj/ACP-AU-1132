{
  "nbformat": 4,
  "nbformat_minor": 0,
  "metadata": {
    "colab": {
      "provenance": []
    },
    "kernelspec": {
      "name": "python3",
      "display_name": "Python 3"
    },
    "language_info": {
      "name": "python"
    }
  },
  "cells": [
    {
      "cell_type": "code",
      "execution_count": 15,
      "metadata": {
        "colab": {
          "base_uri": "https://localhost:8080/"
        },
        "id": "SAoxoR5r5yTA",
        "outputId": "21a9d300-3a99-4845-9bf0-e3151b0b1ea2"
      },
      "outputs": [
        {
          "output_type": "stream",
          "name": "stdout",
          "text": [
            "W: Skipping acquire of configured file 'main/source/Sources' as repository 'https://r2u.stat.illinois.edu/ubuntu jammy InRelease' does not seem to provide it (sources.list entry misspelt?)\n",
            "\n",
            "WARNING: apt does not have a stable CLI interface. Use with caution in scripts.\n",
            "\n",
            "Scraping done!\n"
          ]
        }
      ],
      "source": [
        "# Install dependencies\n",
        "!apt-get update > /dev/null\n",
        "!apt install chromium-chromedriver > /dev/null\n",
        "!pip install selenium > /dev/null\n",
        "\n",
        "import sys\n",
        "sys.path.insert(0, '/usr/lib/chromium-browser/chromedriver')\n",
        "\n",
        "from selenium import webdriver\n",
        "from selenium.webdriver.chrome.options import Options\n",
        "from selenium.webdriver.common.by import By\n",
        "from bs4 import BeautifulSoup\n",
        "import time\n",
        "import xml.etree.ElementTree as ET\n",
        "\n",
        "# Set up headless Chrome\n",
        "chrome_options = Options()\n",
        "chrome_options.add_argument(\"--headless\")\n",
        "chrome_options.add_argument(\"--no-sandbox\")\n",
        "chrome_options.add_argument(\"--disable-dev-shm-usage\")\n",
        "\n",
        "driver = webdriver.Chrome(options=chrome_options)\n",
        "\n",
        "username = \"Jantsagdorj\"\n",
        "base_url = f\"https://github.com/Jantsagdorj?tab=repositories\"\n",
        "\n",
        "driver.get(base_url)\n",
        "time.sleep(3)\n",
        "\n",
        "# Scroll to load all repositories\n",
        "driver.execute_script(\"window.scrollTo(0, document.body.scrollHeight);\")\n",
        "time.sleep(2)\n",
        "\n",
        "soup = BeautifulSoup(driver.page_source, \"html.parser\")\n",
        "repo_links = soup.select('li[itemprop=\"owns\"] a[itemprop=\"name codeRepository\"]')\n",
        "\n",
        "repos_data = []\n",
        "\n",
        "for a in repo_links:\n",
        "    repo_name = a.text.strip()\n",
        "    repo_url = \"https://github.com\" + a['href']\n",
        "\n",
        "    driver.get(repo_url)\n",
        "    time.sleep(2)\n",
        "\n",
        "    page = BeautifulSoup(driver.page_source, \"html.parser\")\n",
        "\n",
        "    is_empty = \"This repository is empty\" in driver.page_source\n",
        "\n",
        "    # About\n",
        "    about_tag = page.select_one(\"p.f4.my-3\")\n",
        "    about = about_tag.text.strip() if about_tag else (None if is_empty else repo_name)\n",
        "\n",
        "    # Last updated\n",
        "    last_updated_tag = page.select_one(\"relative-time\")\n",
        "    last_updated = last_updated_tag['datetime'] if last_updated_tag else None\n",
        "\n",
        "    # Languages\n",
        "    if not is_empty:\n",
        "        languages = []\n",
        "        lang_containers = page.select(\"li.d-inline span.color-fg-default.text-bold.mr-1\")\n",
        "        for lang in lang_containers:\n",
        "            languages.append(lang.text.strip())\n",
        "        if not languages:\n",
        "            lang_list = page.select(\"li a[href*='/languages\\']\")\n",
        "            for lang in lang_list:\n",
        "                lang_name = lang.select_one(\"span\")\n",
        "                if lang_name:\n",
        "                    languages.append(lang_name.text.strip())\n",
        "        if not languages:\n",
        "            languages = None\n",
        "    else:\n",
        "        languages = None\n",
        "\n",
        "    # Commits\n",
        "    if not is_empty:\n",
        "        commits = None\n",
        "        commits_section = page.select_one('li a[href$=\"/commits\"] span strong')\n",
        "        if commits_section:\n",
        "            commits = commits_section.text.strip().replace(\",\", \"\")\n",
        "        else:\n",
        "            alt_commit = page.select_one(\"li span.d-none.d-sm-inline strong\")\n",
        "            if alt_commit:\n",
        "                commits = alt_commit.text.strip().replace(\",\", \"\")\n",
        "    else:\n",
        "        commits = None\n",
        "\n",
        "    repos_data.append({\n",
        "        \"url\": repo_url,\n",
        "        \"about\": about,\n",
        "        \"last_updated\": last_updated,\n",
        "        \"languages\": languages,\n",
        "        \"commits\": commits\n",
        "    })\n",
        "\n",
        "driver.quit()\n",
        "\n",
        "# Create XML\n",
        "root = ET.Element(\"repositories\")\n",
        "\n",
        "for repo in repos_data:\n",
        "    repo_el = ET.SubElement(root, \"repository\")\n",
        "\n",
        "    ET.SubElement(repo_el, \"url\").text = repo[\"url\"]\n",
        "    ET.SubElement(repo_el, \"about\").text = repo[\"about\"] if repo[\"about\"] else \"None\"\n",
        "    ET.SubElement(repo_el, \"last_updated\").text = repo[\"last_updated\"] if repo[\"last_updated\"] else \"None\"\n",
        "\n",
        "    langs_el = ET.SubElement(repo_el, \"languages\")\n",
        "    if repo[\"languages\"]:\n",
        "        for lang in repo[\"languages\"]:\n",
        "            ET.SubElement(langs_el, \"language\").text = lang\n",
        "    else:\n",
        "        langs_el.text = \"None\"\n",
        "\n",
        "    ET.SubElement(repo_el, \"commits\").text = repo[\"commits\"] if repo[\"commits\"] else \"None\"\n",
        "\n",
        "tree = ET.ElementTree(root)\n",
        "tree.write(\"github_repos.xml\", encoding=\"utf-8\", xml_declaration=True)\n",
        "\n",
        "print(\"done!\")\n"
      ]
    },
    {
      "cell_type": "code",
      "source": [
        "from google.colab import files\n",
        "files.download(\"github_repos.xml\")\n"
      ],
      "metadata": {
        "colab": {
          "base_uri": "https://localhost:8080/",
          "height": 17
        },
        "id": "7Qo4wOpE580n",
        "outputId": "c20b9071-a9a2-46cc-95e3-65a9e6a22bed"
      },
      "execution_count": 17,
      "outputs": [
        {
          "output_type": "display_data",
          "data": {
            "text/plain": [
              "<IPython.core.display.Javascript object>"
            ],
            "application/javascript": [
              "\n",
              "    async function download(id, filename, size) {\n",
              "      if (!google.colab.kernel.accessAllowed) {\n",
              "        return;\n",
              "      }\n",
              "      const div = document.createElement('div');\n",
              "      const label = document.createElement('label');\n",
              "      label.textContent = `Downloading \"${filename}\": `;\n",
              "      div.appendChild(label);\n",
              "      const progress = document.createElement('progress');\n",
              "      progress.max = size;\n",
              "      div.appendChild(progress);\n",
              "      document.body.appendChild(div);\n",
              "\n",
              "      const buffers = [];\n",
              "      let downloaded = 0;\n",
              "\n",
              "      const channel = await google.colab.kernel.comms.open(id);\n",
              "      // Send a message to notify the kernel that we're ready.\n",
              "      channel.send({})\n",
              "\n",
              "      for await (const message of channel.messages) {\n",
              "        // Send a message to notify the kernel that we're ready.\n",
              "        channel.send({})\n",
              "        if (message.buffers) {\n",
              "          for (const buffer of message.buffers) {\n",
              "            buffers.push(buffer);\n",
              "            downloaded += buffer.byteLength;\n",
              "            progress.value = downloaded;\n",
              "          }\n",
              "        }\n",
              "      }\n",
              "      const blob = new Blob(buffers, {type: 'application/binary'});\n",
              "      const a = document.createElement('a');\n",
              "      a.href = window.URL.createObjectURL(blob);\n",
              "      a.download = filename;\n",
              "      div.appendChild(a);\n",
              "      a.click();\n",
              "      div.remove();\n",
              "    }\n",
              "  "
            ]
          },
          "metadata": {}
        },
        {
          "output_type": "display_data",
          "data": {
            "text/plain": [
              "<IPython.core.display.Javascript object>"
            ],
            "application/javascript": [
              "download(\"download_7f3c5b27-0414-4d51-931b-2d1bef0c895b\", \"github_repos.xml\", 415)"
            ]
          },
          "metadata": {}
        }
      ]
    }
  ]
}